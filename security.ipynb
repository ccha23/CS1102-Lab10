{
 "cells": [
  {
   "cell_type": "markdown",
   "metadata": {
    "colab_type": "text",
    "id": "gTlbnxPCMk-C"
   },
   "source": [
    "# CS1102 Lab: Python Jupyter Lab on Security"
   ]
  },
  {
   "cell_type": "markdown",
   "metadata": {
    "colab_type": "text",
    "id": "_gPk-t3kMk-M"
   },
   "source": [
    "## Introduction\n",
    "\n",
    "In this lab, your goal is to recover a secret message from its encryption in the file `topsecret.txt`. You will accomplish this using a text programming language called **Python**, which is a very popular tool among hackers and scientists. You will do the lab in an interactive coding environment called the **Jupyter Lab**, which allows you to run code in different languages and typeset your notes and equations as well. You will learn how to use *conditional*, *loop*, *list*, *unicode*, and *module* to *encrypt*, *decrypt* and launch a *dictionary attack*. This will cover the basic idea of *cryptology* (*cryptography* and *cryptanalysis*) in **cyber-security**."
   ]
  },
  {
   "cell_type": "markdown",
   "metadata": {
    "colab_type": "text",
    "id": "g-Bm1neoMk-P"
   },
   "source": [
    "## Task 1: Encrypt a character"
   ]
  },
  {
   "cell_type": "markdown",
   "metadata": {
    "colab_type": "text",
    "id": "aVFiEOKBMk-U"
   },
   "source": [
    "Each character of the message is encrypted using the following code using the text programming language **Python**. Select the following cell by clicking on it, and run the cell by Shift+Enter: You should see `In [ ]` on the left changed to `In [*]`, meaning that the input is being evaluated. After evaluation, `In [1]` (the first evaluated input) and `Out [1]` (the first evaluated output) should appear."
   ]
  },
  {
   "cell_type": "code",
   "execution_count": null,
   "metadata": {
    "colab": {},
    "colab_type": "code",
    "id": "Dj5S8knEMk-Y"
   },
   "outputs": [],
   "source": [
    "def encrypt_character(char, key):\n",
    "    \"\"\"\n",
    "    Given a character and a key, encrypt the character by the key \n",
    "    using transposition cipher, and return the encrypted character.\n",
    "\n",
    "    Parameters\n",
    "    ----------\n",
    "    char : character\n",
    "        The character to be encrypted\n",
    "    key : int\n",
    "        The secret key\n",
    "    Returns\n",
    "    -------\n",
    "    The encrypted character : character\n",
    "    \"\"\"\n",
    "    char_int_code = ord(char)\n",
    "    shifted_char_int_code = (char_int_code + key) % 1114112\n",
    "    encrypted_char = chr(shifted_char_int_code)\n",
    "    return encrypted_char"
   ]
  },
  {
   "cell_type": "markdown",
   "metadata": {
    "colab_type": "text",
    "id": "il-fD7_4Mk-n"
   },
   "source": [
    "The code may look a bit scary at first. Don't worry, it is easy to use. \n",
    "To encrypt a letter 'H' using the key 5, for example, we write `encrypt_character('H', 5)`. The returned value (encryption) can be printed to an output cell using the `print` function. Run the following cell to see this in action."
   ]
  },
  {
   "cell_type": "code",
   "execution_count": null,
   "metadata": {
    "colab": {
     "base_uri": "https://localhost:8080/",
     "height": 34
    },
    "colab_type": "code",
    "id": "YK2fBD57Mk-p",
    "outputId": "8efeccf1-ba8d-4b5b-d681-ab7e16a27907"
   },
   "outputs": [],
   "source": [
    "print(encrypt_character('H', 5))"
   ]
  },
  {
   "cell_type": "markdown",
   "metadata": {
    "colab_type": "text",
    "id": "QTUopzO9Mk-2"
   },
   "source": [
    "In the following cell, write and run the code that prints the encryption of \n",
    "- 'H' by the key 6;\n",
    "- 'I' by the key 5;\n",
    "- '🥑' by the key 5;\n",
    "- '🥖' by the key -5;"
   ]
  },
  {
   "cell_type": "code",
   "execution_count": null,
   "metadata": {
    "colab": {
     "base_uri": "https://localhost:8080/",
     "height": 85
    },
    "colab_type": "code",
    "id": "yFvqzJFcMk-4",
    "outputId": "21d7799a-163f-470d-f4eb-3fdecf23d9d9"
   },
   "outputs": [],
   "source": [
    "# Task 1 [Write your code below to perform the tasks described above\n",
    "#         Run your code by Shift+Enter]\n"
   ]
  },
  {
   "cell_type": "markdown",
   "metadata": {
    "colab_type": "text",
    "id": "bEJuzh0OMk-9"
   },
   "source": [
    "## Task 2: Decrypt a character"
   ]
  },
  {
   "cell_type": "markdown",
   "metadata": {
    "colab_type": "text",
    "id": "1XitoBehMk_A"
   },
   "source": [
    "You will write a Python function called `decrypt_character` to decrypt an encrypted character. It should satisfy the following equality\n",
    "$$\\operatorname{decrypt\\_character}(\\operatorname{encrypt\\_character}(a,k),k) = a \\quad \\forall \\;\\text{character }a, \\text{key }k$$\n",
    "To put it simply, a legitimate user who possesses the key should be able to recover the original character from its encryption.\n",
    "\n",
    "The following cell contains a skeleton of the function. Read the descriptions below the following cell and follow each step to complete the code in the following cell. "
   ]
  },
  {
   "cell_type": "code",
   "execution_count": null,
   "metadata": {
    "colab": {},
    "colab_type": "code",
    "id": "dTOSJjM4Mk_B"
   },
   "outputs": [],
   "source": [
    "def decrypt_character(encrypted_char, key):\n",
    "    \"\"\"\n",
    "    Given a character encrypted using transposition cipher,\n",
    "    return the decrypted character.\n",
    "\n",
    "    Parameters\n",
    "    ----------\n",
    "    encrypted_char : character\n",
    "        The character to dencrypted\n",
    "    key : int\n",
    "        The secret key\n",
    "    Returns\n",
    "    -------\n",
    "    The decrypted character : character\n",
    "    \"\"\"\n",
    "    \n",
    "    # Step 1 [Write your code below]\n",
    "\n",
    "    # Step 2 [Write your code below]\n",
    "    \n",
    "    # Step 3 [Write your code below]\n",
    "    \n",
    "    # Last Step [Write your code below]\n",
    "    \n",
    "    # After completing the above code, run it by Shift+Enter\n",
    "    "
   ]
  },
  {
   "cell_type": "markdown",
   "metadata": {
    "colab_type": "text",
    "id": "RfAJDeV3Mk_E"
   },
   "source": [
    "The keyword `def` defines a function named `decrypt_character`. The function takes two input arguments, whose values will be stored in the variables named `encrypted_char` and `key`. The colon signals the beginning of the body of the function definition. Every line of the body must be indented because, similar to scratch, Python uses the indentation (by the Tab key or at least 4 spaces) to organize consecutive lines of code into blocks (instead of {} as in Javascript). To learn more details of a keyword in Python, you can use the `help` function. For example, run the following cell to learn more about function definitions. "
   ]
  },
  {
   "cell_type": "code",
   "execution_count": null,
   "metadata": {
    "colab": {},
    "colab_type": "code",
    "id": "hztNNj8mMk_G"
   },
   "outputs": [],
   "source": [
    "help('def')"
   ]
  },
  {
   "cell_type": "markdown",
   "metadata": {
    "colab_type": "text",
    "id": "Ua1lTv1oMk_K"
   },
   "source": [
    "You can also use the help function to see the documentation of any function defined before. Run the following cell to see the documentation of the `decrypt_character` function. "
   ]
  },
  {
   "cell_type": "code",
   "execution_count": null,
   "metadata": {
    "colab": {},
    "colab_type": "code",
    "id": "4D9NxCD-Mk_K"
   },
   "outputs": [],
   "source": [
    "help(decrypt_character)"
   ]
  },
  {
   "cell_type": "markdown",
   "metadata": {
    "colab_type": "text",
    "id": "jCvNwwmJMk_U"
   },
   "source": [
    "Note that the body of the decryption function is currently empty, with only a description enclosed by `\"\"\"`, and some lines of comments (pieces of code that are not evaluated) preceded by `#`. Follow the procedure below to fill in the missing code in the decryption function."
   ]
  },
  {
   "cell_type": "markdown",
   "metadata": {
    "colab_type": "text",
    "id": "_X9E-enRMk_V"
   },
   "source": [
    "### Step 1\n",
    "First, convert the encrypted character to unicode using the function `ord` and then assign the unicode to a variable named `encrypted_char_int_code`."
   ]
  },
  {
   "cell_type": "code",
   "execution_count": null,
   "metadata": {
    "colab": {
     "base_uri": "https://localhost:8080/",
     "height": 34
    },
    "colab_type": "code",
    "id": "iusS63GvMk_X",
    "outputId": "68b5c44e-8900-4ef0-e069-d8249aae3295"
   },
   "outputs": [],
   "source": [
    "# Try out the ord() function here.\n",
    "ord('N')"
   ]
  },
  {
   "cell_type": "markdown",
   "metadata": {
    "colab_type": "text",
    "id": "rFCTGKNoMk_a"
   },
   "source": [
    "### Step 2\n",
    "Next, transpose `encrypted_char_int_code` by the `key` as follows:  \n",
    "- subtract `key` from `encrypted_char_int_code` using the operator `-`.\n",
    "- take modulo 1114112 of the resulting number using the operator `%` and parantheses `()`.\n",
    "- assign the value to a variable named `shifted_int_code` using the operator `=`.\n",
    "\n",
    "The operator `-` and `=` are pretty straight-forward. The modulo operation `a % b` essentially gives the remainder when `a` is divided by `b`. The parentheses () can be used to override the order of performing different operations. You can learn more about the modulo operator and its precedence by the running the following cell. "
   ]
  },
  {
   "cell_type": "code",
   "execution_count": null,
   "metadata": {
    "colab": {},
    "colab_type": "code",
    "id": "C3uXcv2ZMk_c"
   },
   "outputs": [],
   "source": [
    "# Try out the modulo operator %.\n",
    "print((1-2) % 3)\n",
    "print(1-2 % 3)\n",
    "help('%')"
   ]
  },
  {
   "cell_type": "markdown",
   "metadata": {
    "colab_type": "text",
    "id": "_P92i6dhMk_h"
   },
   "source": [
    "### Step 3\n",
    "Transform the shifted integer representation back to a character using the function `chr` and then assign it to a variable named `decrypted_char`."
   ]
  },
  {
   "cell_type": "code",
   "execution_count": null,
   "metadata": {
    "colab": {
     "base_uri": "https://localhost:8080/",
     "height": 34
    },
    "colab_type": "code",
    "id": "T6zOZzPZMk_i",
    "outputId": "c71872b6-509e-41f3-a17c-907aa395bb5c"
   },
   "outputs": [],
   "source": [
    "chr(72)"
   ]
  },
  {
   "cell_type": "markdown",
   "metadata": {
    "colab_type": "text",
    "id": "nSdyQ8zmMk_n"
   },
   "source": [
    "### Last step\n",
    "Return the decrypted character using the `return` statement. Run the cell again to update the definition of the decryption function."
   ]
  },
  {
   "cell_type": "markdown",
   "metadata": {},
   "source": [
    "**Test**: \n",
    "Run the cell below to test the correctness of your implementation."
   ]
  },
  {
   "cell_type": "code",
   "execution_count": null,
   "metadata": {
    "colab": {
     "base_uri": "https://localhost:8080/",
     "height": 306
    },
    "colab_type": "code",
    "id": "mC00Mss0Mk_n",
    "outputId": "f490b7bb-002a-4f95-f95c-9f68d66f0cf6"
   },
   "outputs": [],
   "source": [
    "message = \"\"\n",
    "for key in [-1,0,5,1114112]:\n",
    "    for char in 'CS1102':\n",
    "        decrypted_char = decrypt_character(encrypt_character(char,key),key)\n",
    "        message += \"'\"+char+\"' encrypted with key \" + str(key) + \": \"\n",
    "        if decrypted_char!=char:\n",
    "             message += \"Decryption failed! Decrypted to '\"+decrypted_char+\"'.\\n\"\n",
    "        else:\n",
    "             message += \"Decryption succeeded.\\n\"\n",
    "print(message)"
   ]
  },
  {
   "cell_type": "markdown",
   "metadata": {
    "colab_type": "text",
    "id": "GXytCqQFMk_v"
   },
   "source": [
    "The above code uses\n",
    "- two nested `for` loops that assign the variable`key` to each values in the list `[-1,0,5,114111]`, and assign `char` to each character in the string `'CS1102'` (a string is nothing but a list of characters),\n",
    "- an `if` statement to check if the decryption fails, i.e., whether the decryption of the encryption of `char` by `key` is not equal to (`!=`) `char`,\n",
    "- the operator `+` to concatenate two strings into one string, and\n",
    "- and the augmented assignment operator `+=` to append a string to a variable containing a string.\n",
    "\n",
    "You will need to use the above statements and operators very soon. Remind yourself that you need to use colon : in the for-statement and if-statement. Once again, you can type `help('for')` and `help('if')` for more details. "
   ]
  },
  {
   "cell_type": "code",
   "execution_count": null,
   "metadata": {
    "colab": {},
    "colab_type": "code",
    "id": "mOA7QKRsMk_v"
   },
   "outputs": [],
   "source": [
    "help('if')\n",
    "help('for')\n",
    "help('+=')"
   ]
  },
  {
   "cell_type": "markdown",
   "metadata": {
    "colab_type": "text",
    "id": "6eJRyXsZMk_1"
   },
   "source": [
    "## Task 3: Decrypt a ciphertext"
   ]
  },
  {
   "cell_type": "markdown",
   "metadata": {
    "colab_type": "text",
    "id": "PHPar4E7Mk_3"
   },
   "source": [
    "Instead of decrypting one character at a time, you will write the function `decrypt` which conveniently decrypts all characters in a given cyphertext and return the entire plaintext. Complete the function below."
   ]
  },
  {
   "cell_type": "code",
   "execution_count": null,
   "metadata": {
    "colab": {},
    "colab_type": "code",
    "id": "G7rwj8thMk_4"
   },
   "outputs": [],
   "source": [
    "def decrypt(ciphertext, key):\n",
    "    \"\"\"\n",
    "    Given a ciphertext and the key, return the plaintext.\n",
    "\n",
    "    Parameters\n",
    "    ----------\n",
    "    ciphertext : string\n",
    "        The text to be decripted\n",
    "    key : int\n",
    "        The secret key\n",
    "    Returns\n",
    "    -------\n",
    "    string\n",
    "        The plaintext\n",
    "    \"\"\"\n",
    "    # Task 3 [Write your code below to complete this function]\n"
   ]
  },
  {
   "cell_type": "markdown",
   "metadata": {
    "colab_type": "text",
    "id": "e2I5YVgfMk_8"
   },
   "source": [
    "To test your code, run the following cell to see if you can get a meaningful plaintext."
   ]
  },
  {
   "cell_type": "code",
   "execution_count": null,
   "metadata": {
    "colab": {
     "base_uri": "https://localhost:8080/",
     "height": 34
    },
    "colab_type": "code",
    "id": "SuGWEE9MMk_9",
    "outputId": "503b0009-7ad1-4c4e-a5a6-3b41f4a4f6d1"
   },
   "outputs": [],
   "source": [
    "ciphertext = 'Mjqqt%\\\\twqi&'\n",
    "decrypt(ciphertext, 5)"
   ]
  },
  {
   "cell_type": "markdown",
   "metadata": {
    "colab_type": "text",
    "id": "f6wjdBeHMlAD"
   },
   "source": [
    "## Task 4: Decrypt without the secret key\n",
    "You will launch a dictionary attack to decrypt the ciphertext in topsecret.txt without knowing the secret key. The idea is simple: you try decrypting the ciphertext with different keys and see which of the resulting plaintexts make most sense (most english-like). Execute the following pieces of code step-by-step to recover the top secret."
   ]
  },
  {
   "cell_type": "markdown",
   "metadata": {
    "colab_type": "text",
    "id": "5eziiKqhMlAE"
   },
   "source": [
    "### Step 1: Read the file"
   ]
  },
  {
   "cell_type": "markdown",
   "metadata": {
    "colab_type": "text",
    "id": "tHlKzaSzYmrs"
   },
   "source": [
    "Read the content of the file `topsecret.txt` by running the following cell."
   ]
  },
  {
   "cell_type": "code",
   "execution_count": null,
   "metadata": {
    "colab": {
     "base_uri": "https://localhost:8080/",
     "height": 54
    },
    "colab_type": "code",
    "id": "HMT8px9QMlAE",
    "outputId": "1625272f-a18a-4187-8e05-0f2524bc763f"
   },
   "outputs": [],
   "source": [
    "import io               # Python module for stream handling\n",
    "\n",
    "# open the file with unicode standard utf-8\n",
    "with io.open('topsecret.txt','r',encoding=\"utf-8\") as f:\n",
    "    ciphertext = f.read()   # read the content of the file\n",
    "    \n",
    "print(ciphertext)"
   ]
  },
  {
   "cell_type": "markdown",
   "metadata": {
    "colab_type": "text",
    "id": "bBK-D0LSMlAJ"
   },
   "source": [
    "The `import` statement loads a module (a library of predefined functions) that can handle file read and write. You can learn more about different Python modules using the `help` function, e.g., `help('io')`. Once loaded, you can use the function `open` of `io` as `io.open` to open a file as above. The above uses a `with` statement that properly closes the file after use. If you are curious how the `with` statement works, take a look at <http://effbot.org/zone/python-with-statement.htm>. Don't worry if you do not fully understand now. It just handles all the tedious tasks for you."
   ]
  },
  {
   "cell_type": "markdown",
   "metadata": {
    "colab_type": "text",
    "id": "SON56GxNMlAL"
   },
   "source": [
    "### Step 2: Give a score to a text"
   ]
  },
  {
   "cell_type": "markdown",
   "metadata": {
    "colab_type": "text",
    "id": "oOlpKZQlMlAL"
   },
   "source": [
    "Now, you will enter all the English words in a dictionary to a list."
   ]
  },
  {
   "cell_type": "code",
   "execution_count": null,
   "metadata": {
    "colab": {},
    "colab_type": "code",
    "id": "UM8Lxzp2MlAN"
   },
   "outputs": [],
   "source": [
    "dictionary = ['all','english','words',...]"
   ]
  },
  {
   "cell_type": "markdown",
   "metadata": {
    "colab_type": "text",
    "id": "lB8FqIjEMlAS"
   },
   "source": [
    "Just kidding! You do not need to do it manually. Obtain the list from a Natural Language Toolkit (NLTK) by running the following cell. Python has many great tools for hackers!"
   ]
  },
  {
   "cell_type": "code",
   "execution_count": null,
   "metadata": {
    "colab": {
     "base_uri": "https://localhost:8080/",
     "height": 51
    },
    "colab_type": "code",
    "id": "HlkpTzeGMlAT",
    "outputId": "102ff92b-bd85-4258-cdb7-110fa9d81033"
   },
   "outputs": [],
   "source": [
    "import nltk             # import the NLTK package. For details, run help(nltk).\n",
    "nltk.download('words')  # download the Corpus of English words. Run help(words).\n",
    "from nltk.corpus import words\n",
    "dictionary = set(word.lower() for word in words.words())"
   ]
  },
  {
   "cell_type": "markdown",
   "metadata": {
    "colab_type": "text",
    "id": "WFpbVA2yMlAX"
   },
   "source": [
    "The dictionary is a very long list, so you may need to wait for a little while until you see the message \"Package words is already up-to-date!\" Check how many words are there using the `len` command."
   ]
  },
  {
   "cell_type": "code",
   "execution_count": null,
   "metadata": {
    "colab": {
     "base_uri": "https://localhost:8080/",
     "height": 34
    },
    "colab_type": "code",
    "id": "W9Es4Of8MlAZ",
    "outputId": "aeafbd6f-b89b-4b09-ff14-667e9d3de84b"
   },
   "outputs": [],
   "source": [
    "len(dictionary)"
   ]
  },
  {
   "cell_type": "markdown",
   "metadata": {
    "colab_type": "text",
    "id": "IKoCfhTUMlAf"
   },
   "source": [
    "We can use the dictionary as follows:"
   ]
  },
  {
   "cell_type": "code",
   "execution_count": null,
   "metadata": {
    "colab": {
     "base_uri": "https://localhost:8080/",
     "height": 51
    },
    "colab_type": "code",
    "id": "XvXo-48XMlAg",
    "outputId": "3330e128-47b0-465d-f856-42edcdc8060b"
   },
   "outputs": [],
   "source": [
    "print('hello' in dictionary)\n",
    "print('helo' in dictionary)"
   ]
  },
  {
   "cell_type": "markdown",
   "metadata": {
    "colab_type": "text",
    "id": "NuMt5dbFMlAl"
   },
   "source": [
    "You will now write the following function `get_score` which computes how english-like a given text is using the formula\n",
    "$$\\frac{\\text{number of english words in the text}}{\\text{number of words in the text}}$$"
   ]
  },
  {
   "cell_type": "code",
   "execution_count": null,
   "metadata": {
    "colab": {},
    "colab_type": "code",
    "id": "TOJXD56PMlAm"
   },
   "outputs": [],
   "source": [
    "def get_score(text):\n",
    "    \"\"\"\n",
    "    Given a text, return a score within [0,1] defined by \n",
    "        (# english words)/(# words), \n",
    "    or 0 if text is empty.\n",
    "\n",
    "    Parameters\n",
    "    ----------\n",
    "    text : string\n",
    "\n",
    "    Returns\n",
    "    -------\n",
    "    float\n",
    "        The score of a sentence\n",
    "    \"\"\"\n",
    "    # when text is empty\n",
    "    if len(text) == 0:\n",
    "        return 0\n",
    "    \n",
    "    # change all character to lower case to match the words in dictionary\n",
    "    text = text.lower()\n",
    "    \n",
    "    # transform the text into a list of words\n",
    "    list_of_words = text.split() # e.g. ['apple', 'is', ]\n",
    "\n",
    "    # Get the total number of words in the sentence\n",
    "    num_words = len(list_of_words)\n",
    "\n",
    "    # Step 2 [Write your code below to complete this function,\n",
    "    #         i.e., compute the score given by the formula above this cell]\n"
   ]
  },
  {
   "cell_type": "markdown",
   "metadata": {
    "colab_type": "text",
    "id": "-OTFX9JUMlAp"
   },
   "source": [
    "Test your function by running the following cell."
   ]
  },
  {
   "cell_type": "code",
   "execution_count": null,
   "metadata": {
    "colab": {
     "base_uri": "https://localhost:8080/",
     "height": 51
    },
    "colab_type": "code",
    "id": "AgcJgDM8MlAr",
    "outputId": "13c0cdb9-66a4-44be-cd5b-4fa4871ed1d1"
   },
   "outputs": [],
   "source": [
    "# Test the function\n",
    "print(get_score('Today is Monday'))  # score should be 1\n",
    "print(get_score('abc is asdf'))      # score should be 1/3"
   ]
  },
  {
   "cell_type": "markdown",
   "metadata": {
    "colab_type": "text",
    "id": "QaXPKv_GMlAu"
   },
   "source": [
    "### Step 3: Dictionary attack\n",
    "Finally, complete the for loop below to search for one possible plaintext with a score of at least 0.5. Print the plaintext and their corresponding score and key. (You can use `break` to break out of a loop.) "
   ]
  },
  {
   "cell_type": "code",
   "execution_count": null,
   "metadata": {
    "colab": {
     "base_uri": "https://localhost:8080/",
     "height": 606
    },
    "colab_type": "code",
    "id": "BgfvNhSZMlAv",
    "outputId": "4a44910b-1194-4f8c-c958-b8fb9311df3c"
   },
   "outputs": [],
   "source": [
    "for key in range(1114112):\n",
    "    decrypted_content = decrypt(ciphertext, key)\n",
    "    # Step 3 [Write your code below to complete this step, i.e., check the\n",
    "    #         score and print the plaintext with score of at least 0.5]\n"
   ]
  },
  {
   "cell_type": "markdown",
   "metadata": {
    "colab_type": "text",
    "id": "B6oDirVTMlA0"
   },
   "source": [
    "### Task 5 (Optional): Understanding the level of security"
   ]
  },
  {
   "cell_type": "markdown",
   "metadata": {
    "colab_type": "text",
    "id": "eDhL1sM3MlA1"
   },
   "source": [
    "__*Task 5a:*__\n"
   ]
  },
  {
   "cell_type": "markdown",
   "metadata": {
    "colab_type": "text",
    "id": "-5o4uR-fMlA1"
   },
   "source": [
    "How does the transposition cipher work? What is the reason of taking modulo `1114112`?"
   ]
  },
  {
   "cell_type": "markdown",
   "metadata": {},
   "source": []
  },
  {
   "cell_type": "markdown",
   "metadata": {
    "colab_type": "text",
    "id": "jFpsj5PaMlA4"
   },
   "source": [
    "__*Task 5b:*__\n"
   ]
  },
  {
   "cell_type": "markdown",
   "metadata": {
    "colab_type": "text",
    "id": "gG1iJ4SaMlA3"
   },
   "source": [
    "In the dictionary attack, is it necessary to try more keys outside `range(1114112)`? Why?"
   ]
  },
  {
   "cell_type": "markdown",
   "metadata": {},
   "source": []
  },
  {
   "cell_type": "markdown",
   "metadata": {
    "colab_type": "text",
    "id": "GREV03vjMlA6"
   },
   "source": [
    "__*Task 5c:*__\n"
   ]
  },
  {
   "cell_type": "markdown",
   "metadata": {
    "colab_type": "text",
    "id": "QanjdiRDMlA6"
   },
   "source": [
    "If we encrypt the characters at odd positions and even positions using two different keys, is the security level higher? Why?"
   ]
  },
  {
   "cell_type": "markdown",
   "metadata": {},
   "source": []
  },
  {
   "cell_type": "markdown",
   "metadata": {
    "colab_type": "text",
    "id": "GREV03vjMlA6"
   },
   "source": [
    "__*Task 5d:*__\n"
   ]
  },
  {
   "cell_type": "markdown",
   "metadata": {
    "colab_type": "text",
    "id": "Boua6bweMlA8"
   },
   "source": [
    "Using transposition cipher, encrypt a secret message by a secret key of your choice and write it to a file called `mysecret.txt`. Try to have an ethical and meaningful message that is hard to decode without the key. Send the file to your friend or post your message to the discussion page [Lab 10: Your secret messages](https://canvas.cityu.edu.hk/courses/23846/discussion_topics/164818) to see if anyone can decrypt your message without the secret key."
   ]
  },
  {
   "cell_type": "code",
   "execution_count": null,
   "metadata": {
    "colab": {},
    "colab_type": "code",
    "id": "kcnRf4EEMlA9"
   },
   "outputs": [],
   "source": [
    "# Task 5d [Write your code below]\n",
    "def encrypt(text,key):\n",
    "    # your code here\n",
    "    \n",
    "\n",
    "myplaintext =          # your message here\n",
    "mykey =                # you key"
   ]
  },
  {
   "cell_type": "code",
   "execution_count": null,
   "metadata": {
    "colab": {
     "base_uri": "https://localhost:8080/",
     "height": 34
    },
    "colab_type": "code",
    "id": "niej3Nn0s2Ya",
    "outputId": "c7959e7c-d700-4c61-b60f-418e552832a9"
   },
   "outputs": [],
   "source": [
    "# Encrypt\n",
    "myciphertext = encrypt(myplaintext,mykey)\n",
    "if decrypt(myciphertext,mykey)==myplaintext:\n",
    "  print('Success!')\n",
    "else:\n",
    "  print('Failed.')"
   ]
  },
  {
   "cell_type": "code",
   "execution_count": null,
   "metadata": {
    "colab": {},
    "colab_type": "code",
    "id": "3n-uduEurDi8"
   },
   "outputs": [],
   "source": [
    "# write to file\n",
    "with io.open('mysecret.txt','w',encoding='utf-8') as f:\n",
    "    f.write(myciphertext)"
   ]
  },
  {
   "cell_type": "markdown",
   "metadata": {
    "colab_type": "text",
    "id": "GREV03vjMlA6"
   },
   "source": [
    "__*Task 5e:*__\n"
   ]
  },
  {
   "cell_type": "markdown",
   "metadata": {
    "colab_type": "text",
    "id": "ZruuiL0dMlBC"
   },
   "source": [
    "Take a look at an encryption scheme called the [one-time pad (OTP)](https://en.wikipedia.org/wiki/One-time_pad), and explain how one can achieve perfect secrecy. "
   ]
  },
  {
   "cell_type": "markdown",
   "metadata": {},
   "source": []
  }
 ],
 "metadata": {
  "accelerator": "GPU",
  "colab": {
   "name": "security-solution2285137.ipynb",
   "provenance": [],
   "version": "0.3.2"
  },
  "kernelspec": {
   "display_name": "Python 3",
   "language": "python",
   "name": "python3"
  },
  "language_info": {
   "codemirror_mode": {
    "name": "ipython",
    "version": 3
   },
   "file_extension": ".py",
   "mimetype": "text/x-python",
   "name": "python",
   "nbconvert_exporter": "python",
   "pygments_lexer": "ipython3",
   "version": "3.6.6"
  }
 },
 "nbformat": 4,
 "nbformat_minor": 2
}
